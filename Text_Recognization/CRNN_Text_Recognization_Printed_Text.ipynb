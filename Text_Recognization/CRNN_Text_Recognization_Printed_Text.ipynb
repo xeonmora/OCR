{
  "nbformat": 4,
  "nbformat_minor": 0,
  "metadata": {
    "colab": {
      "name": "CRNN_Text_Recognization_Printed_Text.ipynb",
      "provenance": [],
      "toc_visible": true
    },
    "kernelspec": {
      "name": "python3",
      "display_name": "Python 3"
    },
    "language_info": {
      "name": "python"
    },
    "accelerator": "GPU"
  },
  "cells": [
    {
      "cell_type": "code",
      "metadata": {
        "id": "Jh5LFvw-6pMo"
      },
      "source": [
        "import os\n",
        "import cv2\n",
        "import numpy as np\n",
        "import string\n",
        "import time\n",
        "import pandas as pd\n",
        "import tensorflow as tf\n",
        "import matplotlib.pyplot as plt\n",
        "\n",
        "import tensorflow.keras.backend as K\n",
        "from tensorflow.keras.preprocessing.sequence import pad_sequences\n",
        "from tensorflow.keras.layers import Dense, Reshape, BatchNormalization, Input, Conv2D, MaxPool2D, Lambda, Bidirectional\n",
        "\n",
        "from tensorflow.compat.v1.keras.layers import CuDNNLSTM\n",
        "from tensorflow.keras.models import Model\n",
        "from tensorflow.keras.activations import relu, sigmoid, softmax\n",
        "\n",
        "from tensorflow.keras.utils import to_categorical, Sequence\n",
        "from tensorflow.keras.callbacks import ModelCheckpoint\n",
        "from tqdm import tqdm\n",
        "from collections import Counter\n",
        "\n",
        "from PIL import Image"
      ],
      "execution_count": 1,
      "outputs": []
    },
    {
      "cell_type": "markdown",
      "metadata": {
        "id": "zPgowk655r3I"
      },
      "source": [
        "### Dataset Download"
      ]
    },
    {
      "cell_type": "code",
      "metadata": {
        "colab": {
          "base_uri": "https://localhost:8080/"
        },
        "id": "k3wLsGdU5t-4",
        "outputId": "0710b0be-0479-4409-f95a-2a33e94150f2"
      },
      "source": [
        "!gdown --id 1bB_X5edGrrCaYrU_JsU1xKy88hO6XNpv"
      ],
      "execution_count": 2,
      "outputs": [
        {
          "output_type": "stream",
          "text": [
            "Downloading...\n",
            "From: https://drive.google.com/uc?id=1bB_X5edGrrCaYrU_JsU1xKy88hO6XNpv\n",
            "To: /content/image_recognize_dataset.zip\n",
            "748MB [00:13, 54.8MB/s]\n"
          ],
          "name": "stdout"
        }
      ]
    },
    {
      "cell_type": "code",
      "metadata": {
        "id": "00WLFqr55zHf"
      },
      "source": [
        "!unzip image_recognize_dataset.zip"
      ],
      "execution_count": null,
      "outputs": []
    },
    {
      "cell_type": "markdown",
      "metadata": {
        "id": "uYYTTSgd6qe5"
      },
      "source": [
        "### Utils and Data laoder"
      ]
    },
    {
      "cell_type": "code",
      "metadata": {
        "id": "axps_uGn7qE4"
      },
      "source": [
        "final_paths = []\n",
        "final_texts = []\n",
        "\n",
        "\n",
        "path = \"image_recognize_dataset\"\n",
        "\n",
        "for i in os.listdir(path):\n",
        "    for j in os.listdir(path+\"/\"+str(i)):\n",
        "        for x in os.listdir(path+\"/\"+str(i)+\"/\"+str(j)):\n",
        "            final_paths.append(path+\"/\"+str(i)+\"/\"+str(j)+\"/\"+x)\n",
        "            final_texts.append(str(x).split(\"_\")[1])\n",
        "\n",
        "# data_folder = \"mjsynth_sample\"\n",
        "# for path in os.listdir(data_folder):\n",
        "\n",
        "\n",
        "#     final_paths.append(data_folder + \"/\" + path)\n",
        "#     final_texts.append(path.split(\"_\")[1])"
      ],
      "execution_count": 4,
      "outputs": []
    },
    {
      "cell_type": "code",
      "metadata": {
        "colab": {
          "base_uri": "https://localhost:8080/"
        },
        "id": "iIEculbZ7qHw",
        "outputId": "8aa013ad-3885-49cb-93a0-0c9e4965ffaa"
      },
      "source": [
        "final_paths[:10], final_texts[:10]"
      ],
      "execution_count": 5,
      "outputs": [
        {
          "output_type": "execute_result",
          "data": {
            "text/plain": [
              "(['image_recognize_dataset/98/1/96_Shula_70638.jpg',\n",
              "  'image_recognize_dataset/98/1/174_WHUP_86463.jpg',\n",
              "  'image_recognize_dataset/98/1/335_AFFORDING_1443.jpg',\n",
              "  'image_recognize_dataset/98/1/226_DIVOT_22944.jpg',\n",
              "  'image_recognize_dataset/98/1/341_CLADDAGH_13842.jpg',\n",
              "  'image_recognize_dataset/98/1/347_CRATERING_17850.jpg',\n",
              "  'image_recognize_dataset/98/1/279_CIRCE_13704.jpg',\n",
              "  'image_recognize_dataset/98/1/80_teleology_77977.jpg',\n",
              "  'image_recognize_dataset/98/1/250_TALLBOY_77329.jpg',\n",
              "  'image_recognize_dataset/98/1/494_Dissimulator_22689.jpg'],\n",
              " ['Shula',\n",
              "  'WHUP',\n",
              "  'AFFORDING',\n",
              "  'DIVOT',\n",
              "  'CLADDAGH',\n",
              "  'CRATERING',\n",
              "  'CIRCE',\n",
              "  'teleology',\n",
              "  'TALLBOY',\n",
              "  'Dissimulator'])"
            ]
          },
          "metadata": {
            "tags": []
          },
          "execution_count": 5
        }
      ]
    },
    {
      "cell_type": "code",
      "metadata": {
        "colab": {
          "base_uri": "https://localhost:8080/"
        },
        "id": "5FwFiUfIspWQ",
        "outputId": "1958a3df-064e-4386-c50a-a38d34f5274e"
      },
      "source": [
        "len(final_texts)"
      ],
      "execution_count": 6,
      "outputs": [
        {
          "output_type": "execute_result",
          "data": {
            "text/plain": [
              "449464"
            ]
          },
          "metadata": {
            "tags": []
          },
          "execution_count": 6
        }
      ]
    },
    {
      "cell_type": "code",
      "metadata": {
        "colab": {
          "base_uri": "https://localhost:8080/"
        },
        "id": "iMFG57lQ_d0I",
        "outputId": "b286d15b-1571-4a91-ffa2-4ced4dca448a"
      },
      "source": [
        "vocab = set(\"\".join(map(str, final_texts)))\n",
        "print(sorted(vocab))"
      ],
      "execution_count": 7,
      "outputs": [
        {
          "output_type": "stream",
          "text": [
            "['!', '\"', '#', '$', '%', '&', \"'\", '(', ')', '*', '+', ',', '-', '.', '0', '1', '2', '3', '4', '5', '6', '7', '8', '9', ':', ';', '<', '=', '>', '?', '@', 'A', 'B', 'C', 'D', 'E', 'F', 'G', 'H', 'I', 'J', 'K', 'L', 'M', 'N', 'O', 'P', 'Q', 'R', 'S', 'T', 'U', 'V', 'W', 'X', 'Y', 'Z', '[', '\\\\', ']', '^', '`', 'a', 'b', 'c', 'd', 'e', 'f', 'g', 'h', 'i', 'j', 'k', 'l', 'm', 'n', 'o', 'p', 'q', 'r', 's', 't', 'u', 'v', 'w', 'x', 'y', 'z', '{', '|', '}', '~']\n"
          ],
          "name": "stdout"
        }
      ]
    },
    {
      "cell_type": "code",
      "metadata": {
        "colab": {
          "base_uri": "https://localhost:8080/"
        },
        "id": "FZsOVkf-_ejp",
        "outputId": "91dc2095-ef11-4f8a-e069-bbd88019739a"
      },
      "source": [
        "Counter(\"\".join(map(str, final_texts)))"
      ],
      "execution_count": 8,
      "outputs": [
        {
          "output_type": "execute_result",
          "data": {
            "text/plain": [
              "Counter({'!': 849,\n",
              "         '\"': 2981,\n",
              "         '#': 305,\n",
              "         '$': 1038,\n",
              "         '%': 289,\n",
              "         '&': 172,\n",
              "         \"'\": 9981,\n",
              "         '(': 5688,\n",
              "         ')': 2988,\n",
              "         '*': 454,\n",
              "         '+': 216,\n",
              "         ',': 22725,\n",
              "         '-': 8199,\n",
              "         '.': 24157,\n",
              "         '0': 5053,\n",
              "         '1': 7248,\n",
              "         '2': 3987,\n",
              "         '3': 3020,\n",
              "         '4': 2416,\n",
              "         '5': 2871,\n",
              "         '6': 1848,\n",
              "         '7': 1765,\n",
              "         '8': 1815,\n",
              "         '9': 2079,\n",
              "         ':': 56533,\n",
              "         ';': 520,\n",
              "         '<': 131,\n",
              "         '=': 97,\n",
              "         '>': 13419,\n",
              "         '?': 1907,\n",
              "         '@': 172,\n",
              "         'A': 72248,\n",
              "         'B': 24565,\n",
              "         'C': 44479,\n",
              "         'D': 48788,\n",
              "         'E': 97769,\n",
              "         'F': 29016,\n",
              "         'G': 28782,\n",
              "         'H': 25260,\n",
              "         'I': 83367,\n",
              "         'J': 3969,\n",
              "         'K': 10527,\n",
              "         'L': 58032,\n",
              "         'M': 34015,\n",
              "         'N': 62980,\n",
              "         'O': 53983,\n",
              "         'P': 32358,\n",
              "         'Q': 2169,\n",
              "         'R': 73952,\n",
              "         'S': 91337,\n",
              "         'T': 64455,\n",
              "         'U': 30550,\n",
              "         'V': 10457,\n",
              "         'W': 12191,\n",
              "         'X': 4002,\n",
              "         'Y': 13936,\n",
              "         'Z': 4102,\n",
              "         '[': 398,\n",
              "         '\\\\': 14,\n",
              "         ']': 271,\n",
              "         '^': 10,\n",
              "         '`': 100,\n",
              "         'a': 158804,\n",
              "         'b': 33204,\n",
              "         'c': 68336,\n",
              "         'd': 71086,\n",
              "         'e': 265184,\n",
              "         'f': 25457,\n",
              "         'g': 57723,\n",
              "         'h': 46007,\n",
              "         'i': 175651,\n",
              "         'j': 4967,\n",
              "         'k': 19224,\n",
              "         'l': 98622,\n",
              "         'm': 59651,\n",
              "         'n': 153306,\n",
              "         'o': 139106,\n",
              "         'p': 48538,\n",
              "         'q': 2896,\n",
              "         'r': 153554,\n",
              "         's': 180700,\n",
              "         't': 140669,\n",
              "         'u': 68031,\n",
              "         'v': 19152,\n",
              "         'w': 20875,\n",
              "         'x': 5718,\n",
              "         'y': 33118,\n",
              "         'z': 8820,\n",
              "         '{': 39,\n",
              "         '|': 242,\n",
              "         '}': 44,\n",
              "         '~': 39})"
            ]
          },
          "metadata": {
            "tags": []
          },
          "execution_count": 8
        }
      ]
    },
    {
      "cell_type": "code",
      "metadata": {
        "id": "f5VepioX_emz"
      },
      "source": [
        "char_list = sorted(vocab)\n",
        "\n",
        "def encode_to_labels(txt):\n",
        "    # encoding each output word into digits\n",
        "    dig_lst = []\n",
        "    \n",
        "    for index, char in enumerate(txt):\n",
        "        try:\n",
        "            dig_lst.append(char_list.index(char))\n",
        "        except:\n",
        "            print(char)\n",
        "        \n",
        "    return dig_lst\n"
      ],
      "execution_count": 9,
      "outputs": []
    },
    {
      "cell_type": "code",
      "metadata": {
        "colab": {
          "base_uri": "https://localhost:8080/"
        },
        "id": "_wiJEQZH_ep2",
        "outputId": "613a666a-2889-4eee-cb6f-7181f40c9eae"
      },
      "source": [
        "encode_to_labels(\"hello\")"
      ],
      "execution_count": 10,
      "outputs": [
        {
          "output_type": "execute_result",
          "data": {
            "text/plain": [
              "[69, 66, 73, 73, 76]"
            ]
          },
          "metadata": {
            "tags": []
          },
          "execution_count": 10
        }
      ]
    },
    {
      "cell_type": "code",
      "metadata": {
        "id": "4yuxDj2m_xfw"
      },
      "source": [
        "train_final_paths = final_paths[ : int(len(final_paths) * 0.90)]\n",
        "train_final_texts = final_texts[ : int(len(final_texts) * 0.90)]\n",
        "\n",
        "val_final_paths = final_paths[int(len(final_paths) * 0.90) : ]\n",
        "val_final_texts = final_texts[int(len(final_texts) * 0.90) : ]"
      ],
      "execution_count": 11,
      "outputs": []
    },
    {
      "cell_type": "code",
      "metadata": {
        "colab": {
          "base_uri": "https://localhost:8080/"
        },
        "id": "wRuTdV6k_xjG",
        "outputId": "03a76aa0-5df4-4e3a-ee12-7a97a07d8929"
      },
      "source": [
        "len(train_final_paths), len(val_final_paths)"
      ],
      "execution_count": 12,
      "outputs": [
        {
          "output_type": "execute_result",
          "data": {
            "text/plain": [
              "(404517, 44947)"
            ]
          },
          "metadata": {
            "tags": []
          },
          "execution_count": 12
        }
      ]
    },
    {
      "cell_type": "code",
      "metadata": {
        "id": "ckt3aAPH_xre"
      },
      "source": [
        "max_label_len = max([len(str(text)) for text in final_texts])"
      ],
      "execution_count": 13,
      "outputs": []
    },
    {
      "cell_type": "code",
      "metadata": {
        "colab": {
          "base_uri": "https://localhost:8080/"
        },
        "id": "8tpT6KycAAH8",
        "outputId": "ed09132f-1221-48d1-aa56-d11cdd8d5f6a"
      },
      "source": [
        "max_label_len"
      ],
      "execution_count": 14,
      "outputs": [
        {
          "output_type": "execute_result",
          "data": {
            "text/plain": [
              "23"
            ]
          },
          "metadata": {
            "tags": []
          },
          "execution_count": 14
        }
      ]
    },
    {
      "cell_type": "code",
      "metadata": {
        "id": "9DMdDBYqAGeS"
      },
      "source": [
        "class My_Generator(Sequence):\n",
        "    \n",
        "    def __init__(self, image_filenames, labels, batch_size):\n",
        "        self.image_filenames, self.labels = image_filenames, labels\n",
        "        self.batch_size = batch_size\n",
        "\n",
        "    def __len__(self):\n",
        "        return int(np.ceil(len(self.image_filenames) / float(self.batch_size)))\n",
        "\n",
        "    def __getitem__(self, idx):\n",
        "        \n",
        "        batch_paths = self.image_filenames[idx * self.batch_size:(idx + 1) * self.batch_size]\n",
        "        batch_texts = self.labels[idx * self.batch_size:(idx + 1) * self.batch_size]\n",
        "        \n",
        "        images = []\n",
        "        training_txt = []\n",
        "        train_label_length = []\n",
        "        train_input_length = []\n",
        "\n",
        "        for im_path, text in zip(batch_paths, batch_texts):\n",
        "            \n",
        "            try:\n",
        "                text = str(text).strip()\n",
        "                img = cv2.cvtColor(cv2.imread(im_path), cv2.COLOR_BGR2GRAY)   \n",
        "\n",
        "                ### actually returns h, w\n",
        "                h, w = img.shape\n",
        "\n",
        "                ### if height less than 32\n",
        "                if h < 32:\n",
        "                    add_zeros = np.ones((32-h, w)) * 255\n",
        "                    img = np.concatenate((img, add_zeros))\n",
        "                    h = 32\n",
        "\n",
        "                ## if width less than 128\n",
        "                if w < 128:\n",
        "                    add_zeros = np.ones((h, 128-w)) * 255\n",
        "                    img = np.concatenate((img, add_zeros), axis=1)\n",
        "                    w = 128\n",
        "\n",
        "                ### if width is greater than 128 or height greater than 32\n",
        "                if w > 128 or h > 32:\n",
        "                    img = cv2.resize(img, (128, 32))\n",
        "\n",
        "                img = np.expand_dims(img , axis = 2)\n",
        "\n",
        "                # Normalize each image\n",
        "                img = img / 255.\n",
        "\n",
        "                images.append(img)\n",
        "                training_txt.append(encode_to_labels(text))\n",
        "                train_label_length.append(len(text))\n",
        "                train_input_length.append(31)\n",
        "            except:\n",
        "                pass\n",
        "\n",
        "        return [np.array(images), \n",
        "               pad_sequences(training_txt, maxlen=max_label_len, padding='post', value=len(char_list)), \n",
        "               np.array(train_input_length), \n",
        "               np.array(train_label_length)], np.zeros(len(images))"
      ],
      "execution_count": 15,
      "outputs": []
    },
    {
      "cell_type": "code",
      "metadata": {
        "colab": {
          "base_uri": "https://localhost:8080/"
        },
        "id": "BQ6_EeHJAGhG",
        "outputId": "63250aa3-00e8-41e1-cb3a-1c5e59eab3fa"
      },
      "source": [
        "train_final_paths[:1], train_final_texts[:1]"
      ],
      "execution_count": 16,
      "outputs": [
        {
          "output_type": "execute_result",
          "data": {
            "text/plain": [
              "(['image_recognize_dataset/98/1/96_Shula_70638.jpg'], ['Shula'])"
            ]
          },
          "metadata": {
            "tags": []
          },
          "execution_count": 16
        }
      ]
    },
    {
      "cell_type": "code",
      "metadata": {
        "id": "6ggHU5_3AAK3"
      },
      "source": [
        "batch_size = 64\n",
        "train_generator = My_Generator(train_final_paths, train_final_texts, batch_size)\n",
        "val_generator = My_Generator(val_final_paths, val_final_texts, batch_size)"
      ],
      "execution_count": 17,
      "outputs": []
    },
    {
      "cell_type": "markdown",
      "metadata": {
        "id": "OfjhhEog6xA3"
      },
      "source": [
        "### CRNN Model"
      ]
    },
    {
      "cell_type": "code",
      "metadata": {
        "id": "pBeKaYxkAAOH"
      },
      "source": [
        "# input with shape of height=32 and width=128 \n",
        "inputs = Input(shape=(32, 128, 1))\n",
        "\n",
        "conv_1 = Conv2D(16, (3,3), activation = 'relu', padding='same')(inputs)\n",
        "pool_1 = MaxPool2D(pool_size=(2, 2), strides=2)(conv_1)\n",
        " \n",
        "conv_2 = Conv2D(32, (3,3), activation = 'relu', padding='same')(pool_1)\n",
        "pool_2 = MaxPool2D(pool_size=(2, 2), strides=2)(conv_2)\n",
        "\n",
        "conv_3 = Conv2D(64, (3,3), activation = 'relu', padding='same')(pool_2)\n",
        "conv_4 = Conv2D(64, (3,3), activation = 'relu', padding='same')(conv_3)\n",
        "pool_4 = MaxPool2D(pool_size=(2, 1))(conv_4)\n",
        " \n",
        "conv_5 = Conv2D(64, (3,3), activation = 'relu', padding='same')(pool_4)\n",
        "# Batch normalization layer\n",
        "batch_norm_5 = BatchNormalization()(conv_5)\n",
        " \n",
        "conv_6 = Conv2D(64, (3,3), activation = 'relu', padding='same')(batch_norm_5)\n",
        "batch_norm_6 = BatchNormalization()(conv_6)\n",
        "pool_6 = MaxPool2D(pool_size=(2, 1))(batch_norm_6)\n",
        " \n",
        "conv_7 = Conv2D(64, (2,2), activation = 'relu')(pool_6)\n",
        " \n",
        "squeezed = Lambda(lambda x: K.squeeze(x, 1))(conv_7)\n",
        " \n",
        "# bidirectional LSTM layers with units=128\n",
        "blstm_1 = Bidirectional(CuDNNLSTM(128, return_sequences=True))(squeezed)\n",
        "blstm_2 = Bidirectional(CuDNNLSTM(128, return_sequences=True))(blstm_1)\n",
        "\n",
        "outputs = Dense(len(char_list) + 1, activation = 'softmax')(blstm_2)\n",
        "\n",
        "# model to be used at test time\n",
        "act_model = Model(inputs, outputs)"
      ],
      "execution_count": 18,
      "outputs": []
    },
    {
      "cell_type": "markdown",
      "metadata": {
        "id": "lGMLIbfn8NRQ"
      },
      "source": [
        "### Loss and Optimizer"
      ]
    },
    {
      "cell_type": "code",
      "metadata": {
        "id": "4nj-mIWYAfqN"
      },
      "source": [
        "labels = Input(name='the_labels', shape=[max_label_len], dtype='float32')\n",
        "input_length = Input(name='input_length', shape=[1], dtype='int64')\n",
        "label_length = Input(name='label_length', shape=[1], dtype='int64')\n",
        "\n",
        "def ctc_lambda_func(args):\n",
        "    y_pred, labels, input_length, label_length = args \n",
        "    return K.ctc_batch_cost(labels, y_pred, input_length, label_length)\n",
        " \n",
        "loss_out = Lambda(ctc_lambda_func, \n",
        "                  output_shape=(1,), \n",
        "                  name='ctc')([outputs, labels, input_length, label_length])\n",
        "\n",
        "model = Model(inputs=[inputs, labels, input_length, label_length], outputs=loss_out)"
      ],
      "execution_count": 20,
      "outputs": []
    },
    {
      "cell_type": "code",
      "metadata": {
        "colab": {
          "base_uri": "https://localhost:8080/"
        },
        "id": "HKdhNe-T8QlU",
        "outputId": "5ee371e7-6bb2-4504-f2ad-cbee8146a5d3"
      },
      "source": [
        "model.summary()"
      ],
      "execution_count": 21,
      "outputs": [
        {
          "output_type": "stream",
          "text": [
            "Model: \"model_1\"\n",
            "__________________________________________________________________________________________________\n",
            "Layer (type)                    Output Shape         Param #     Connected to                     \n",
            "==================================================================================================\n",
            "input_1 (InputLayer)            [(None, 32, 128, 1)] 0                                            \n",
            "__________________________________________________________________________________________________\n",
            "conv2d (Conv2D)                 (None, 32, 128, 16)  160         input_1[0][0]                    \n",
            "__________________________________________________________________________________________________\n",
            "max_pooling2d (MaxPooling2D)    (None, 16, 64, 16)   0           conv2d[0][0]                     \n",
            "__________________________________________________________________________________________________\n",
            "conv2d_1 (Conv2D)               (None, 16, 64, 32)   4640        max_pooling2d[0][0]              \n",
            "__________________________________________________________________________________________________\n",
            "max_pooling2d_1 (MaxPooling2D)  (None, 8, 32, 32)    0           conv2d_1[0][0]                   \n",
            "__________________________________________________________________________________________________\n",
            "conv2d_2 (Conv2D)               (None, 8, 32, 64)    18496       max_pooling2d_1[0][0]            \n",
            "__________________________________________________________________________________________________\n",
            "conv2d_3 (Conv2D)               (None, 8, 32, 64)    36928       conv2d_2[0][0]                   \n",
            "__________________________________________________________________________________________________\n",
            "max_pooling2d_2 (MaxPooling2D)  (None, 4, 32, 64)    0           conv2d_3[0][0]                   \n",
            "__________________________________________________________________________________________________\n",
            "conv2d_4 (Conv2D)               (None, 4, 32, 64)    36928       max_pooling2d_2[0][0]            \n",
            "__________________________________________________________________________________________________\n",
            "batch_normalization (BatchNorma (None, 4, 32, 64)    256         conv2d_4[0][0]                   \n",
            "__________________________________________________________________________________________________\n",
            "conv2d_5 (Conv2D)               (None, 4, 32, 64)    36928       batch_normalization[0][0]        \n",
            "__________________________________________________________________________________________________\n",
            "batch_normalization_1 (BatchNor (None, 4, 32, 64)    256         conv2d_5[0][0]                   \n",
            "__________________________________________________________________________________________________\n",
            "max_pooling2d_3 (MaxPooling2D)  (None, 2, 32, 64)    0           batch_normalization_1[0][0]      \n",
            "__________________________________________________________________________________________________\n",
            "conv2d_6 (Conv2D)               (None, 1, 31, 64)    16448       max_pooling2d_3[0][0]            \n",
            "__________________________________________________________________________________________________\n",
            "lambda (Lambda)                 (None, 31, 64)       0           conv2d_6[0][0]                   \n",
            "__________________________________________________________________________________________________\n",
            "bidirectional (Bidirectional)   (None, 31, 256)      198656      lambda[0][0]                     \n",
            "__________________________________________________________________________________________________\n",
            "bidirectional_1 (Bidirectional) (None, 31, 256)      395264      bidirectional[0][0]              \n",
            "__________________________________________________________________________________________________\n",
            "dense (Dense)                   (None, 31, 93)       23901       bidirectional_1[0][0]            \n",
            "__________________________________________________________________________________________________\n",
            "the_labels (InputLayer)         [(None, 23)]         0                                            \n",
            "__________________________________________________________________________________________________\n",
            "input_length (InputLayer)       [(None, 1)]          0                                            \n",
            "__________________________________________________________________________________________________\n",
            "label_length (InputLayer)       [(None, 1)]          0                                            \n",
            "__________________________________________________________________________________________________\n",
            "ctc (Lambda)                    (None, 1)            0           dense[0][0]                      \n",
            "                                                                 the_labels[0][0]                 \n",
            "                                                                 input_length[0][0]               \n",
            "                                                                 label_length[0][0]               \n",
            "==================================================================================================\n",
            "Total params: 768,861\n",
            "Trainable params: 768,605\n",
            "Non-trainable params: 256\n",
            "__________________________________________________________________________________________________\n"
          ],
          "name": "stdout"
        }
      ]
    },
    {
      "cell_type": "code",
      "metadata": {
        "id": "jKakQvhgCxqM"
      },
      "source": [
        "file_path = \"C_LSTM_best.hdf5\"\n",
        "\n",
        "model.compile(loss={'ctc': lambda y_true, y_pred: y_pred}, optimizer = 'adam')\n",
        "\n",
        "\n",
        "checkpoint = ModelCheckpoint(filepath=file_path, \n",
        "                             monitor='val_loss', \n",
        "                             verbose=1, \n",
        "                             save_best_only=True, \n",
        "                             mode='min')\n",
        "\n",
        "callbacks_list = [checkpoint]"
      ],
      "execution_count": 22,
      "outputs": []
    },
    {
      "cell_type": "markdown",
      "metadata": {
        "id": "yD1USXLd7BQj"
      },
      "source": [
        "### Train"
      ]
    },
    {
      "cell_type": "code",
      "metadata": {
        "colab": {
          "base_uri": "https://localhost:8080/"
        },
        "id": "wJU9DJMoCxtL",
        "outputId": "9b2e274b-f2aa-4f1f-848a-72f19ec7d184"
      },
      "source": [
        "epochs = 10\n",
        "\n",
        "history = model.fit(train_generator, \n",
        "                    epochs = epochs,\n",
        "                    steps_per_epoch = len(train_final_paths) // batch_size,\n",
        "                    validation_data=val_generator,\n",
        "                    validation_steps = len(val_final_paths) // batch_size,\n",
        "                    verbose = 1,\n",
        "                    callbacks = callbacks_list,\n",
        "                    shuffle=True)"
      ],
      "execution_count": 23,
      "outputs": [
        {
          "output_type": "stream",
          "text": [
            "Epoch 1/10\n",
            "6320/6320 [==============================] - 435s 63ms/step - loss: 20.3613 - val_loss: 7.7277\n",
            "\n",
            "Epoch 00001: val_loss improved from inf to 7.72769, saving model to C_LSTM_best.hdf5\n",
            "Epoch 2/10\n",
            "6320/6320 [==============================] - 381s 60ms/step - loss: 5.0992 - val_loss: 5.6668\n",
            "\n",
            "Epoch 00002: val_loss improved from 7.72769 to 5.66682, saving model to C_LSTM_best.hdf5\n",
            "Epoch 3/10\n",
            "6320/6320 [==============================] - 369s 58ms/step - loss: 4.0996 - val_loss: 5.3408\n",
            "\n",
            "Epoch 00003: val_loss improved from 5.66682 to 5.34082, saving model to C_LSTM_best.hdf5\n",
            "Epoch 4/10\n",
            "6320/6320 [==============================] - 369s 58ms/step - loss: 3.6531 - val_loss: 5.5958\n",
            "\n",
            "Epoch 00004: val_loss did not improve from 5.34082\n",
            "Epoch 5/10\n",
            "6320/6320 [==============================] - 373s 59ms/step - loss: 3.3943 - val_loss: 5.5459\n",
            "\n",
            "Epoch 00005: val_loss did not improve from 5.34082\n",
            "Epoch 6/10\n",
            "6320/6320 [==============================] - 375s 59ms/step - loss: 3.1753 - val_loss: 5.1950\n",
            "\n",
            "Epoch 00006: val_loss improved from 5.34082 to 5.19503, saving model to C_LSTM_best.hdf5\n",
            "Epoch 7/10\n",
            "6320/6320 [==============================] - 370s 59ms/step - loss: 3.0473 - val_loss: 4.3583\n",
            "\n",
            "Epoch 00007: val_loss improved from 5.19503 to 4.35833, saving model to C_LSTM_best.hdf5\n",
            "Epoch 8/10\n",
            "6320/6320 [==============================] - 373s 59ms/step - loss: 2.9176 - val_loss: 4.5491\n",
            "\n",
            "Epoch 00008: val_loss did not improve from 4.35833\n",
            "Epoch 9/10\n",
            "6320/6320 [==============================] - 372s 59ms/step - loss: 2.8011 - val_loss: 5.2258\n",
            "\n",
            "Epoch 00009: val_loss did not improve from 4.35833\n",
            "Epoch 10/10\n",
            "6320/6320 [==============================] - 373s 59ms/step - loss: 2.6767 - val_loss: 4.4423\n",
            "\n",
            "Epoch 00010: val_loss did not improve from 4.35833\n"
          ],
          "name": "stdout"
        }
      ]
    },
    {
      "cell_type": "code",
      "metadata": {
        "colab": {
          "base_uri": "https://localhost:8080/",
          "height": 295
        },
        "id": "d23ntLopGIDG",
        "outputId": "2b4b0756-011d-4d3c-ff9f-a62bc193bd74"
      },
      "source": [
        "plt.plot(history.history['loss'])\n",
        "plt.plot(history.history['val_loss'])\n",
        "plt.title('model loss')\n",
        "plt.ylabel('loss')\n",
        "plt.xlabel('epoch')\n",
        "plt.legend(['train', 'test'], loc='upper left')\n",
        "plt.show()"
      ],
      "execution_count": 24,
      "outputs": [
        {
          "output_type": "display_data",
          "data": {
            "image/png": "[encoded data removed]",
            "text/plain": [
              "<Figure size 432x288 with 1 Axes>"
            ]
          },
          "metadata": {
            "tags": [],
            "needs_background": "light"
          }
        }
      ]
    },
    {
      "cell_type": "markdown",
      "metadata": {
        "id": "mhDaGRpz7E6f"
      },
      "source": [
        "### Evalution"
      ]
    },
    {
      "cell_type": "code",
      "metadata": {
        "id": "vtVtzF6jGIGG"
      },
      "source": [
        "def pre_process_image(path):\n",
        "    \n",
        "    img = cv2.cvtColor(cv2.imread(path), cv2.COLOR_BGR2GRAY)\n",
        "    ### actually returns h, w\n",
        "    h, w = img.shape\n",
        "\n",
        "    ### if height less than 32\n",
        "    if h < 32:\n",
        "        add_zeros = np.ones((32-h, w)) * 255\n",
        "        img = np.concatenate((img, add_zeros))\n",
        "        h = 32\n",
        "\n",
        "    ## if width less than 128\n",
        "    if w < 128:\n",
        "        add_zeros = np.ones((h, 128-w)) * 255\n",
        "        img = np.concatenate((img, add_zeros), axis=1)\n",
        "        w = 128\n",
        "\n",
        "    ### if width is greater than 128 or height greater than 32\n",
        "    if w > 128 or h > 32:\n",
        "        img = cv2.resize(img, (128, 32))\n",
        "\n",
        "    \n",
        "    img = np.expand_dims(img , axis = 2)\n",
        "\n",
        "    # Normalize each image\n",
        "    img = img / 255.\n",
        "    \n",
        "    return img"
      ],
      "execution_count": 25,
      "outputs": []
    },
    {
      "cell_type": "code",
      "metadata": {
        "id": "ozXw_-GGGII_"
      },
      "source": [
        "act_model.load_weights('C_LSTM_best.hdf5')"
      ],
      "execution_count": 26,
      "outputs": []
    },
    {
      "cell_type": "code",
      "metadata": {
        "id": "rvECFdUVG19Q"
      },
      "source": [
        "def predict_output(img):\n",
        "    # predict outputs on validation images\n",
        "    prediction = act_model.predict(np.array([img]))\n",
        "    ## shape (batch_size, num_timesteps, vocab_size)\n",
        "\n",
        "    # use CTC decoder\n",
        "    out = K.get_value(K.ctc_decode(prediction, \n",
        "                                   input_length=np.ones(prediction.shape[0]) * prediction.shape[1],\n",
        "                                   greedy=True)[0][0])\n",
        "\n",
        "    ## get the final text    \n",
        "    for x in out:\n",
        "\n",
        "        print(\"predicted text = \", end = '')\n",
        "\n",
        "        for p in x:\n",
        "\n",
        "            if int(p) != -1:\n",
        "                print(char_list[int(p)], end = '')\n",
        "        \n",
        "        print('\\n')"
      ],
      "execution_count": 27,
      "outputs": []
    },
    {
      "cell_type": "code",
      "metadata": {
        "id": "78297xRDG24T",
        "colab": {
          "base_uri": "https://localhost:8080/",
          "height": 1000
        },
        "outputId": "535a01f8-9a1f-410a-af52-09e2baa7d0d7"
      },
      "source": [
        "from IPython.display import display\n",
        "from random import randrange\n",
        "\n",
        "for i in range(10):\n",
        "    index = randrange(len(val_final_paths))\n",
        "    im = Image.open(val_final_paths[index])\n",
        "    display(im)\n",
        "\n",
        "    print(\"\\n\")\n",
        "\n",
        "    test_img = pre_process_image(val_final_paths[index])\n",
        "    predict_output(test_img)"
      ],
      "execution_count": 28,
      "outputs": [
        {
          "output_type": "display_data",
          "data": {
            "image/png": "[encoded data removed]",
            "text/plain": [
              "<PIL.JpegImagePlugin.JpegImageFile image mode=RGB size=156x42 at 0x7FAC0C0758D0>"
            ]
          },
          "metadata": {
            "tags": []
          }
        },
        {
          "output_type": "stream",
          "text": [
            "\n",
            "\n",
            "predicted text = Badanes,\n",
            "\n"
          ],
          "name": "stdout"
        },
        {
          "output_type": "display_data",
          "data": {
            "image/png": "[encoded data removed]",
            "text/plain": [
              "<PIL.JpegImagePlugin.JpegImageFile image mode=RGB size=147x31 at 0x7FAC040E8F50>"
            ]
          },
          "metadata": {
            "tags": []
          }
        },
        {
          "output_type": "stream",
          "text": [
            "\n",
            "\n",
            "predicted text = Despoliation\n",
            "\n"
          ],
          "name": "stdout"
        },
        {
          "output_type": "display_data",
          "data": {
            "image/png": "[encoded data removed]",
            "text/plain": [
              "<PIL.JpegImagePlugin.JpegImageFile image mode=RGB size=83x30 at 0x7FAC0407E490>"
            ]
          },
          "metadata": {
            "tags": []
          }
        },
        {
          "output_type": "stream",
          "text": [
            "\n",
            "\n",
            "predicted text = >Later,\n",
            "\n"
          ],
          "name": "stdout"
        },
        {
          "output_type": "display_data",
          "data": {
            "image/png": "[encoded data removed]",
            "text/plain": [
              "<PIL.JpegImagePlugin.JpegImageFile image mode=RGB size=140x16 at 0x7FAC00EBF250>"
            ]
          },
          "metadata": {
            "tags": []
          }
        },
        {
          "output_type": "stream",
          "text": [
            "\n",
            "\n",
            "predicted text = Newsgroups:\n",
            "\n"
          ],
          "name": "stdout"
        },
        {
          "output_type": "display_data",
          "data": {
            "image/png": "[encoded data removed]",
            "text/plain": [
              "<PIL.JpegImagePlugin.JpegImageFile image mode=RGB size=107x31 at 0x7FAC00EFAD50>"
            ]
          },
          "metadata": {
            "tags": []
          }
        },
        {
          "output_type": "stream",
          "text": [
            "\n",
            "\n",
            "predicted text = Secretariats\n",
            "\n"
          ],
          "name": "stdout"
        },
        {
          "output_type": "display_data",
          "data": {
            "image/png": "[encoded data removed]",
            "text/plain": [
              "<PIL.JpegImagePlugin.JpegImageFile image mode=RGB size=140x31 at 0x7FAC00EE85D0>"
            ]
          },
          "metadata": {
            "tags": []
          }
        },
        {
          "output_type": "stream",
          "text": [
            "\n",
            "\n",
            "predicted text = hygrometers\n",
            "\n"
          ],
          "name": "stdout"
        },
        {
          "output_type": "display_data",
          "data": {
            "image/png": "[encoded data removed]",
            "text/plain": [
              "<PIL.JpegImagePlugin.JpegImageFile image mode=RGB size=108x31 at 0x7FAC00EE1B50>"
            ]
          },
          "metadata": {
            "tags": []
          }
        },
        {
          "output_type": "stream",
          "text": [
            "\n",
            "\n",
            "predicted text = ineffectually\n",
            "\n"
          ],
          "name": "stdout"
        },
        {
          "output_type": "display_data",
          "data": {
            "image/png": "[encoded data removed]",
            "text/plain": [
              "<PIL.JpegImagePlugin.JpegImageFile image mode=RGB size=144x31 at 0x7FAC00EBF290>"
            ]
          },
          "metadata": {
            "tags": []
          }
        },
        {
          "output_type": "stream",
          "text": [
            "\n",
            "\n",
            "predicted text = LAMEBRAIN\n",
            "\n"
          ],
          "name": "stdout"
        },
        {
          "output_type": "display_data",
          "data": {
            "image/png": "[encoded data removed]",
            "text/plain": [
              "<PIL.JpegImagePlugin.JpegImageFile image mode=RGB size=194x31 at 0x7FAC00EC09D0>"
            ]
          },
          "metadata": {
            "tags": []
          }
        },
        {
          "output_type": "stream",
          "text": [
            "\n",
            "\n",
            "predicted text = WOODCUTTER\n",
            "\n"
          ],
          "name": "stdout"
        },
        {
          "output_type": "display_data",
          "data": {
            "image/png": "[encoded data removed]",
            "text/plain": [
              "<PIL.JpegImagePlugin.JpegImageFile image mode=RGB size=96x19 at 0x7FAC00E44E90>"
            ]
          },
          "metadata": {
            "tags": []
          }
        },
        {
          "output_type": "stream",
          "text": [
            "\n",
            "\n",
            "predicted text = reason:\n",
            "\n"
          ],
          "name": "stdout"
        }
      ]
    },
    {
      "cell_type": "code",
      "metadata": {
        "id": "XZEKVRygICZW"
      },
      "source": [
        ""
      ],
      "execution_count": null,
      "outputs": []
    }
  ]
}